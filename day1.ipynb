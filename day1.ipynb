{
 "cells": [
  {
   "cell_type": "markdown",
   "id": "4a6ad15a",
   "metadata": {},
   "source": [
    "# python comments"
   ]
  },
  {
   "cell_type": "code",
   "execution_count": 1,
   "id": "b8f76782",
   "metadata": {},
   "outputs": [
    {
     "name": "stdout",
     "output_type": "stream",
     "text": [
      "hello,world\n"
     ]
    }
   ],
   "source": [
    "print(\"hello,world\") #see the output"
   ]
  },
  {
   "cell_type": "code",
   "execution_count": 2,
   "id": "fc12c396",
   "metadata": {},
   "outputs": [
    {
     "name": "stdout",
     "output_type": "stream",
     "text": [
      "hello,suvarna\n"
     ]
    }
   ],
   "source": [
    "#this is comment\n",
    "#writtern in\n",
    "#more than just one line\n",
    "print(\"hello,suvarna\")"
   ]
  },
  {
   "cell_type": "code",
   "execution_count": null,
   "id": "3272f18c",
   "metadata": {},
   "outputs": [],
   "source": [
    "\"\"\"\n",
    "\n",
    "this  is a comment\n",
    "written in\n",
    "more than just one line\n",
    "\n",
    "\"\"\""
   ]
  },
  {
   "cell_type": "code",
   "execution_count": 1,
   "id": "d3b2f92c",
   "metadata": {},
   "outputs": [
    {
     "name": "stdout",
     "output_type": "stream",
     "text": [
      "suvarna\n",
      "5\n"
     ]
    }
   ],
   "source": [
    "x=5 #number\n",
    "y=\"suvarna\" #string variable can be decleared either \n",
    "#by using single or double quotes:\n",
    "print(y)\n",
    "print(x)"
   ]
  },
  {
   "cell_type": "code",
   "execution_count": 3,
   "id": "71cdceca",
   "metadata": {},
   "outputs": [
    {
     "data": {
      "text/plain": [
       "'suvarna'"
      ]
     },
     "execution_count": 3,
     "metadata": {},
     "output_type": "execute_result"
    }
   ],
   "source": [
    "y\n"
   ]
  },
  {
   "cell_type": "code",
   "execution_count": 5,
   "id": "e79a7b85",
   "metadata": {},
   "outputs": [],
   "source": [
    "x=3"
   ]
  },
  {
   "cell_type": "code",
   "execution_count": 6,
   "id": "6b8972ac",
   "metadata": {},
   "outputs": [
    {
     "data": {
      "text/plain": [
       "3"
      ]
     },
     "execution_count": 6,
     "metadata": {},
     "output_type": "execute_result"
    }
   ],
   "source": [
    "x"
   ]
  },
  {
   "cell_type": "code",
   "execution_count": 7,
   "id": "ea97b688",
   "metadata": {},
   "outputs": [
    {
     "name": "stdout",
     "output_type": "stream",
     "text": [
      "3\n"
     ]
    }
   ],
   "source": [
    "print(x)"
   ]
  },
  {
   "cell_type": "code",
   "execution_count": 5,
   "id": "5a541356",
   "metadata": {},
   "outputs": [
    {
     "name": "stdout",
     "output_type": "stream",
     "text": [
      "abc\n"
     ]
    }
   ],
   "source": [
    "x='suvarna'\n",
    "x='abc'\n",
    "print(x)"
   ]
  },
  {
   "cell_type": "code",
   "execution_count": 9,
   "id": "189148b8",
   "metadata": {},
   "outputs": [
    {
     "data": {
      "text/plain": [
       "[1, 2, 3, 4]"
      ]
     },
     "execution_count": 9,
     "metadata": {},
     "output_type": "execute_result"
    }
   ],
   "source": [
    "[1,2,3,4]"
   ]
  },
  {
   "cell_type": "code",
   "execution_count": 10,
   "id": "5cc69c64",
   "metadata": {},
   "outputs": [],
   "source": [
    "x=[21,22,23,24]"
   ]
  },
  {
   "cell_type": "code",
   "execution_count": 11,
   "id": "73631b9e",
   "metadata": {},
   "outputs": [
    {
     "data": {
      "text/plain": [
       "[21, 22, 23, 24]"
      ]
     },
     "execution_count": 11,
     "metadata": {},
     "output_type": "execute_result"
    }
   ],
   "source": [
    "x"
   ]
  },
  {
   "cell_type": "code",
   "execution_count": 12,
   "id": "34972cfb",
   "metadata": {},
   "outputs": [
    {
     "name": "stdout",
     "output_type": "stream",
     "text": [
      "[21, 22, 23, 24]\n"
     ]
    }
   ],
   "source": [
    "print(x)"
   ]
  },
  {
   "cell_type": "markdown",
   "id": "2539bc70",
   "metadata": {},
   "source": [
    "# assign value to multiple variable"
   ]
  },
  {
   "cell_type": "markdown",
   "id": "157e8768",
   "metadata": {},
   "source": [
    "* python allows you to assign values to multiple variable in one one line:"
   ]
  },
  {
   "cell_type": "code",
   "execution_count": 13,
   "id": "24e1ae23",
   "metadata": {},
   "outputs": [
    {
     "name": "stdout",
     "output_type": "stream",
     "text": [
      "orange\n",
      "banana\n",
      "cherry\n"
     ]
    }
   ],
   "source": [
    "x,y,z='orange','banana','cherry'\n",
    "print(x)\n",
    "print(y)\n",
    "print(z)"
   ]
  },
  {
   "cell_type": "code",
   "execution_count": 14,
   "id": "4ac9abd9",
   "metadata": {},
   "outputs": [
    {
     "data": {
      "text/plain": [
       "('orange', 'banana', 'cherry')"
      ]
     },
     "execution_count": 14,
     "metadata": {},
     "output_type": "execute_result"
    }
   ],
   "source": [
    "x,y,z"
   ]
  },
  {
   "cell_type": "markdown",
   "id": "b0701067",
   "metadata": {},
   "source": [
    "# there are three numeric types in python"
   ]
  },
  {
   "cell_type": "markdown",
   "id": "ceaf7d37",
   "metadata": {},
   "source": [
    "* int\n",
    "* float\n",
    "* complex"
   ]
  },
  {
   "cell_type": "code",
   "execution_count": 18,
   "id": "61969243",
   "metadata": {},
   "outputs": [],
   "source": [
    "x=10\n",
    "y=2.8\n",
    "z=5j"
   ]
  },
  {
   "cell_type": "code",
   "execution_count": 16,
   "id": "bf8b4fd0",
   "metadata": {},
   "outputs": [
    {
     "data": {
      "text/plain": [
       "(10, 2.8, 5j)"
      ]
     },
     "execution_count": 16,
     "metadata": {},
     "output_type": "execute_result"
    }
   ],
   "source": [
    "x,y,z"
   ]
  },
  {
   "cell_type": "code",
   "execution_count": 17,
   "id": "0c210a5a",
   "metadata": {},
   "outputs": [
    {
     "name": "stdout",
     "output_type": "stream",
     "text": [
      "<class 'int'>\n",
      "<class 'float'>\n",
      "<class 'complex'>\n"
     ]
    }
   ],
   "source": [
    "print(type(x))\n",
    "print(type(y))\n",
    "print(type(z))"
   ]
  },
  {
   "cell_type": "code",
   "execution_count": 19,
   "id": "122e44ec",
   "metadata": {},
   "outputs": [
    {
     "name": "stdout",
     "output_type": "stream",
     "text": [
      "<class 'int'>\n",
      "<class 'int'>\n",
      "<class 'int'>\n"
     ]
    }
   ],
   "source": [
    "x=1\n",
    "y=356482236409746\n",
    "z=-32\n",
    "\n",
    "print(type(x))\n",
    "print(type(y))\n",
    "print(type(z))"
   ]
  },
  {
   "cell_type": "markdown",
   "id": "349deae0",
   "metadata": {},
   "source": [
    "# Float"
   ]
  },
  {
   "cell_type": "code",
   "execution_count": 20,
   "id": "dfe04e77",
   "metadata": {},
   "outputs": [
    {
     "name": "stdout",
     "output_type": "stream",
     "text": [
      "<class 'float'>\n",
      "<class 'float'>\n",
      "<class 'float'>\n"
     ]
    }
   ],
   "source": [
    "x=1.10\n",
    "y=1.0\n",
    "z=-32.59\n",
    "\n",
    "print(type(x))\n",
    "print(type(y))\n",
    "print(type(z))"
   ]
  },
  {
   "cell_type": "code",
   "execution_count": 21,
   "id": "5a2d8cc3",
   "metadata": {},
   "outputs": [
    {
     "name": "stdout",
     "output_type": "stream",
     "text": [
      "350.0\n",
      "120000.0\n",
      "3.4\n",
      "<class 'float'>\n",
      "<class 'float'>\n",
      "<class 'float'>\n"
     ]
    }
   ],
   "source": [
    "x=35e1\n",
    "y=12e4\n",
    "z=34e-1\n",
    "\n",
    "print(x)\n",
    "print(y)\n",
    "print(z)\n",
    "\n",
    "print(type(x))\n",
    "print(type(y))\n",
    "print(type(z))"
   ]
  },
  {
   "cell_type": "markdown",
   "id": "b501e051",
   "metadata": {},
   "source": [
    "# Complex"
   ]
  },
  {
   "cell_type": "code",
   "execution_count": 22,
   "id": "e2a73197",
   "metadata": {},
   "outputs": [
    {
     "name": "stdout",
     "output_type": "stream",
     "text": [
      "<class 'complex'>\n",
      "<class 'complex'>\n",
      "<class 'complex'>\n"
     ]
    }
   ],
   "source": [
    "x=3+5j\n",
    "y=5j\n",
    "z=-32j\n",
    "\n",
    "print(type(x))\n",
    "print(type(y))\n",
    "print(type(z))"
   ]
  },
  {
   "cell_type": "markdown",
   "id": "cde3e644",
   "metadata": {},
   "source": [
    "# Type conversion"
   ]
  },
  {
   "cell_type": "code",
   "execution_count": 23,
   "id": "51a15737",
   "metadata": {},
   "outputs": [
    {
     "name": "stdout",
     "output_type": "stream",
     "text": [
      "<class 'int'>\n",
      "<class 'float'>\n",
      "1.0\n"
     ]
    }
   ],
   "source": [
    "x=1\n",
    "print(type(x))\n",
    "a=float(x)\n",
    "print(type(a))\n",
    "print(a)"
   ]
  },
  {
   "cell_type": "code",
   "execution_count": 24,
   "id": "1d9c2109",
   "metadata": {},
   "outputs": [
    {
     "name": "stdout",
     "output_type": "stream",
     "text": [
      "<class 'float'>\n",
      "<class 'int'>\n",
      "40\n"
     ]
    }
   ],
   "source": [
    "x=40.4\n",
    "print(type(x))\n",
    "a=int(x)\n",
    "print(type(a))\n",
    "print(a)"
   ]
  },
  {
   "cell_type": "markdown",
   "id": "ce12164f",
   "metadata": {},
   "source": [
    "# String"
   ]
  },
  {
   "cell_type": "code",
   "execution_count": 25,
   "id": "3422b053",
   "metadata": {},
   "outputs": [
    {
     "data": {
      "text/plain": [
       "'hello'"
      ]
     },
     "execution_count": 25,
     "metadata": {},
     "output_type": "execute_result"
    }
   ],
   "source": [
    "a=\"hello\"\n",
    "a"
   ]
  },
  {
   "cell_type": "code",
   "execution_count": 2,
   "id": "68963057",
   "metadata": {},
   "outputs": [
    {
     "data": {
      "text/plain": [
       "','"
      ]
     },
     "execution_count": 2,
     "metadata": {},
     "output_type": "execute_result"
    }
   ],
   "source": [
    "a=\"Hello, World!\"\n",
    "a[5]"
   ]
  },
  {
   "cell_type": "code",
   "execution_count": 31,
   "id": "d3225e06",
   "metadata": {},
   "outputs": [
    {
     "name": "stdout",
     "output_type": "stream",
     "text": [
      "Hell\n"
     ]
    }
   ],
   "source": [
    "b=\"Hello\"\n",
    "print(b[0:4])"
   ]
  },
  {
   "cell_type": "code",
   "execution_count": 32,
   "id": "29eed6eb",
   "metadata": {},
   "outputs": [
    {
     "data": {
      "text/plain": [
       "7"
      ]
     },
     "execution_count": 32,
     "metadata": {},
     "output_type": "execute_result"
    }
   ],
   "source": [
    "a=\"suvarna\"\n",
    "len(a)"
   ]
  },
  {
   "cell_type": "code",
   "execution_count": 34,
   "id": "d186d6c6",
   "metadata": {},
   "outputs": [
    {
     "name": "stdout",
     "output_type": "stream",
     "text": [
      "hello,world!\n"
     ]
    }
   ],
   "source": [
    "a=\"Hello,world!\"\n",
    "print(a.lower())"
   ]
  },
  {
   "cell_type": "code",
   "execution_count": 35,
   "id": "e5e0d6e9",
   "metadata": {},
   "outputs": [
    {
     "name": "stdout",
     "output_type": "stream",
     "text": [
      "HELLO,WORLD!\n"
     ]
    }
   ],
   "source": [
    "a=\"Hello,world!\"\n",
    "print(a.upper())"
   ]
  },
  {
   "cell_type": "code",
   "execution_count": 36,
   "id": "8a3c8163",
   "metadata": {},
   "outputs": [
    {
     "name": "stdout",
     "output_type": "stream",
     "text": [
      "Jello,world!\n"
     ]
    }
   ],
   "source": [
    "a=\"Hello,world!\"\n",
    "print(a.replace('H','J'))"
   ]
  },
  {
   "cell_type": "markdown",
   "id": "e95ea404",
   "metadata": {},
   "source": [
    "# Command line string input"
   ]
  },
  {
   "cell_type": "code",
   "execution_count": 37,
   "id": "8d43e80b",
   "metadata": {},
   "outputs": [
    {
     "name": "stdout",
     "output_type": "stream",
     "text": [
      "suvarna\n",
      "Hello suvarna\n"
     ]
    }
   ],
   "source": [
    "x=input()\n",
    "print(\"Hello\",x)"
   ]
  }
 ],
 "metadata": {
  "kernelspec": {
   "display_name": "Python 3 (ipykernel)",
   "language": "python",
   "name": "python3"
  },
  "language_info": {
   "codemirror_mode": {
    "name": "ipython",
    "version": 3
   },
   "file_extension": ".py",
   "mimetype": "text/x-python",
   "name": "python",
   "nbconvert_exporter": "python",
   "pygments_lexer": "ipython3",
   "version": "3.9.12"
  }
 },
 "nbformat": 4,
 "nbformat_minor": 5
}
