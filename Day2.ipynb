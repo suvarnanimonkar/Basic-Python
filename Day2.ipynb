{
 "cells": [
  {
   "cell_type": "markdown",
   "id": "61b5ded2",
   "metadata": {},
   "source": [
    "# Arithmatic Operator"
   ]
  },
  {
   "cell_type": "code",
   "execution_count": 1,
   "id": "c5d5d08d",
   "metadata": {},
   "outputs": [
    {
     "name": "stdout",
     "output_type": "stream",
     "text": [
      "9\n",
      "-1\n",
      "20\n",
      "0.8\n"
     ]
    }
   ],
   "source": [
    "x=4\n",
    "y=5\n",
    "\n",
    "print(x+y)\n",
    "print(x-y)\n",
    "print(x*y)\n",
    "print(x/y)"
   ]
  },
  {
   "cell_type": "markdown",
   "id": "fa48cea5",
   "metadata": {},
   "source": [
    "# Modulus"
   ]
  },
  {
   "cell_type": "code",
   "execution_count": 3,
   "id": "8d664645",
   "metadata": {},
   "outputs": [
    {
     "name": "stdout",
     "output_type": "stream",
     "text": [
      "1\n"
     ]
    }
   ],
   "source": [
    "x=5\n",
    "y=2\n",
    "\n",
    "print(x%y)"
   ]
  },
  {
   "cell_type": "markdown",
   "id": "62a5757f",
   "metadata": {},
   "source": [
    "# Exponentiation"
   ]
  },
  {
   "cell_type": "markdown",
   "id": "a0bd2701",
   "metadata": {},
   "source": [
    "* assignment operator"
   ]
  },
  {
   "cell_type": "code",
   "execution_count": 4,
   "id": "4504d1d7",
   "metadata": {},
   "outputs": [
    {
     "name": "stdout",
     "output_type": "stream",
     "text": [
      "20\n"
     ]
    }
   ],
   "source": [
    "x=17\n",
    "y=x+3\n",
    "print(y)"
   ]
  },
  {
   "cell_type": "markdown",
   "id": "23ffb9b2",
   "metadata": {},
   "source": [
    "* Comparison Operator"
   ]
  },
  {
   "cell_type": "code",
   "execution_count": 5,
   "id": "643175ea",
   "metadata": {},
   "outputs": [
    {
     "name": "stdout",
     "output_type": "stream",
     "text": [
      "False\n",
      "True\n",
      "False\n",
      "True\n",
      "False\n",
      "True\n"
     ]
    }
   ],
   "source": [
    "x=3\n",
    "y=4\n",
    "\n",
    "print(x==y)\n",
    "print(x!=y)\n",
    "print(x>y)\n",
    "print(x<y)\n",
    "print(x>=y)\n",
    "print(x<=y)"
   ]
  },
  {
   "cell_type": "markdown",
   "id": "d814df34",
   "metadata": {},
   "source": [
    "* Logical Operator"
   ]
  },
  {
   "cell_type": "code",
   "execution_count": 6,
   "id": "7c6544dc",
   "metadata": {},
   "outputs": [
    {
     "name": "stdout",
     "output_type": "stream",
     "text": [
      "True\n",
      "True\n",
      "False\n"
     ]
    }
   ],
   "source": [
    "x=12\n",
    "\n",
    "print(x>3 and x<14)\n",
    "print(x>3 or x<4)\n",
    "print(x>3 and x<10)"
   ]
  },
  {
   "cell_type": "markdown",
   "id": "36499ab5",
   "metadata": {},
   "source": [
    "* Membership Operator"
   ]
  },
  {
   "cell_type": "code",
   "execution_count": 7,
   "id": "1c9c55c1",
   "metadata": {},
   "outputs": [
    {
     "name": "stdout",
     "output_type": "stream",
     "text": [
      "True\n"
     ]
    }
   ],
   "source": [
    "x=[\"suvarna\",\"komal\",\"vidya\"]\n",
    "\n",
    "print(\"suvarna\" in x)"
   ]
  },
  {
   "cell_type": "code",
   "execution_count": 8,
   "id": "07802888",
   "metadata": {},
   "outputs": [
    {
     "name": "stdout",
     "output_type": "stream",
     "text": [
      "True\n"
     ]
    }
   ],
   "source": [
    "x=[\"apple\",\"banana\"]\n",
    "\n",
    "print(\"suvarna\" not in x)"
   ]
  },
  {
   "cell_type": "markdown",
   "id": "bc040d54",
   "metadata": {},
   "source": [
    "* Identity Operator"
   ]
  },
  {
   "cell_type": "code",
   "execution_count": 9,
   "id": "2487c505",
   "metadata": {},
   "outputs": [
    {
     "name": "stdout",
     "output_type": "stream",
     "text": [
      "True\n",
      "False\n",
      "True\n"
     ]
    }
   ],
   "source": [
    "x=[\"apple\",\"banana\"]\n",
    "y=[\"apple\",\"banana\"]\n",
    "z=x\n",
    "\n",
    "\n",
    "print(x is z)\n",
    "print(x is y)\n",
    "print(x == z)\n"
   ]
  },
  {
   "cell_type": "markdown",
   "id": "2b6428b2",
   "metadata": {},
   "source": [
    "# Id"
   ]
  },
  {
   "cell_type": "code",
   "execution_count": 10,
   "id": "3e7ffe44",
   "metadata": {},
   "outputs": [
    {
     "name": "stdout",
     "output_type": "stream",
     "text": [
      "1494575148416\n",
      "1494575429120\n",
      "1494575148416\n"
     ]
    }
   ],
   "source": [
    "print(id(x))\n",
    "print(id(y))\n",
    "print(id(z))"
   ]
  },
  {
   "cell_type": "markdown",
   "id": "e0ef9146",
   "metadata": {},
   "source": [
    "# List"
   ]
  },
  {
   "cell_type": "code",
   "execution_count": 16,
   "id": "56fc64df",
   "metadata": {},
   "outputs": [
    {
     "name": "stdout",
     "output_type": "stream",
     "text": [
      "['apple', 'banana', 'cherry']\n"
     ]
    }
   ],
   "source": [
    "thislist=[\"apple\",\"banana\",\"cherry\"]\n",
    "print(thislist)"
   ]
  },
  {
   "cell_type": "markdown",
   "id": "cd6dd34d",
   "metadata": {},
   "source": [
    "# Access Item"
   ]
  },
  {
   "cell_type": "code",
   "execution_count": 17,
   "id": "2b5d9732",
   "metadata": {},
   "outputs": [
    {
     "name": "stdout",
     "output_type": "stream",
     "text": [
      "banana\n"
     ]
    }
   ],
   "source": [
    "thislist=[\"apple\",\"banana\",\"cherry\"]\n",
    "print(thislist[1])"
   ]
  }
 ],
 "metadata": {
  "kernelspec": {
   "display_name": "Python 3 (ipykernel)",
   "language": "python",
   "name": "python3"
  },
  "language_info": {
   "codemirror_mode": {
    "name": "ipython",
    "version": 3
   },
   "file_extension": ".py",
   "mimetype": "text/x-python",
   "name": "python",
   "nbconvert_exporter": "python",
   "pygments_lexer": "ipython3",
   "version": "3.9.12"
  }
 },
 "nbformat": 4,
 "nbformat_minor": 5
}
